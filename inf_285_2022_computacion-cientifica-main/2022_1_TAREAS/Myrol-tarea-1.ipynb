{
 "cells": [
  {
   "cell_type": "markdown",
   "id": "c095fe86",
   "metadata": {
    "id": "c095fe86"
   },
   "source": [
    "<img src=\"http://sct.inf.utfsm.cl/wp-content/uploads/2020/04/logo_di.png\" style=\"width:60%\">\n",
    "<center>\n",
    "    <h1> INF285 - Computación Científica </h1>\n",
    "    <h2> Tarea 1 - Código Base</h2>\n",
    "    <h2> [S]cientific [C]omputing [T]eam </a> </h2>\n",
    "    <h2> Version: 1.01</h2>\n",
    "</center>"
   ]
  },
  {
   "cell_type": "markdown",
   "id": "fa965615",
   "metadata": {
    "id": "fa965615"
   },
   "source": [
    "# No debe utilizar bibliotecas adicionales."
   ]
  },
  {
   "cell_type": "code",
   "execution_count": 1,
   "id": "06ac2f72",
   "metadata": {
    "id": "06ac2f72"
   },
   "outputs": [],
   "source": [
    "import numpy as np"
   ]
  },
  {
   "cell_type": "markdown",
   "id": "82a9b53d",
   "metadata": {},
   "source": [
    "## Parte 1"
   ]
  },
  {
   "cell_type": "code",
   "execution_count": 2,
   "id": "096d1f69",
   "metadata": {
    "id": "096d1f69"
   },
   "outputs": [],
   "source": [
    "# Firma pregunta 1: a)\n",
    "'''\n",
    "input:\n",
    "x       : (float)    variable a evaluar en f1.\n",
    "t       : (float)    parámetro constante perteneciente a f1.\n",
    "\n",
    "\n",
    "output:\n",
    "eval    : (float) resultado de evaluar la función f1 con parámetros x, t.\n",
    "'''\n",
    "def f1(x, t):\n",
    "    s = (t + x * np.sin(x))\n",
    "    arg =t**2 + 1\n",
    "    eval = s + (arg**0.5)\n",
    "    return eval\n",
    "\n",
    "\n",
    "# Firma pregunta 1: b)\n",
    "'''\n",
    "input:\n",
    "x       : (float)    variable a evaluar en f2.\n",
    "t       : (float)    parámetro constante perteneciente a f2.\n",
    "\n",
    "\n",
    "output:\n",
    "eval    : (float) resultado de evaluar la función f2 con parámetros x, t.\n",
    "'''\n",
    "def f2(x, t):\n",
    "    num = (x - ((x-t)**5))\n",
    "    eval = num / (t)\n",
    "    return eval\n",
    "\n",
    "\n",
    "# Firma pregunta 1: c)\n",
    "'''\n",
    "input:\n",
    "x       : (float)    variable a evaluar en f3.\n",
    "t       : (float)    parámetro constante perteneciente a f3.\n",
    "\n",
    "\n",
    "output:\n",
    "eval    : (float) resultado de evaluar la función f3 con parámetros x, t.\n",
    "'''\n",
    "def f3(x, t):\n",
    "    \n",
    "    s = (t + x * np.sin(x))\n",
    "    f_1 = s + ((t**2 + 1)**0.5)\n",
    "    num = (x - ((x-t)**5))\n",
    "    f_2 = num / t\n",
    "    eval = f_1 + f_2\n",
    "    return eval\n",
    "\n",
    "\n",
    "# Firma pregunta 1: d)\n",
    "'''\n",
    "input:\n",
    "x       : (float)    variable a evaluar en f1_fixed.\n",
    "t       : (float)    parámetro constante perteneciente a f1_fixed.\n",
    "\n",
    "\n",
    "output:\n",
    "eval    : (float) resultado de evaluar la función f1_fixed con parámetros x, t.\n",
    "'''\n",
    "def f1_fixed(x, t):\n",
    "    arg =t**2 + 1\n",
    "    s = (t + (arg**0.5))\n",
    "    eval = s + x*np.sin(x)\n",
    "    return eval\n",
    "\n",
    "\n",
    "# Firma pregunta 1: e)\n",
    "'''\n",
    "input:\n",
    "x       : (float)    variable a evaluar en f2_fixed.\n",
    "t       : (float)    parámetro constante perteneciente a f2_fixed.\n",
    "\n",
    "\n",
    "output:\n",
    "eval    : (float) resultado de evaluar la función f2_fixed con parámetros x, t.\n",
    "'''\n",
    "def f2_fixed(x, t):\n",
    "    # Desarrollar (x - t)^5 como polinomio: (1)x^5 (-5t)x^4 (+10t^2)x^3 (-10t^3)x^2 (+5t^4)x (-1t^5)\n",
    "    # Manipular algebráicamente el numerador: factorizar por -1 el polinomio y sumar x: (x-(x-t)^2)\n",
    "    polim = (x - (x**5)) + (5*t*x**4) - (10*(t**2)*(x**3)) + (10*t**3*(x**2)) - (5*(t**4)*x) + (t**5)\n",
    "    eval = polim/t\n",
    "    return eval\n",
    "\n",
    "\n",
    "# Firma pregunta 1: f)\n",
    "'''\n",
    "input:\n",
    "x       : (float)    variable a evaluar en f3_fixed.\n",
    "t       : (float)    parámetro constante perteneciente a f3_fixed.\n",
    "\n",
    "\n",
    "output:\n",
    "eval    : (float) resultado de evaluar la función f3_fixed con parámetros x, t.\n",
    "'''\n",
    "def f3_fixed(x, t):\n",
    "    arg =t**2 + 1\n",
    "    s = (t + (arg**0.5))\n",
    "    f_1 = s + x*np.sin(x)\n",
    "    polim = (x - (x**5)) + (5*t*x**4) - (10*(t**2)*(x**3)) + (10*t**3*(x**2)) - (5*(t**4)*x) + (t**5)\n",
    "    f_2 = polim/t\n",
    "    eval = f_1 + f_2\n",
    "    return eval\n"
   ]
  },
  {
   "cell_type": "markdown",
   "id": "ded829c7",
   "metadata": {},
   "source": [
    "## Parte 2"
   ]
  },
  {
   "cell_type": "code",
   "execution_count": 3,
   "id": "34b20d13",
   "metadata": {},
   "outputs": [],
   "source": [
    "# Firma pregunta 2: a)\n",
    "'''\n",
    "input:\n",
    "x       : (float)    variable a evaluar en f2_diff.\n",
    "t       : (float)    parámetro constante perteneciente a f2_diff.\n",
    "\n",
    "output:\n",
    "eval    : (float) resultado de evaluar la función f2_diff con parámetros x, t.\n",
    "'''\n",
    "def f2_diff(x, t):\n",
    "    eval = ( - 5*t**4 + 20* t**3*x - 30*t**2*x**2 + 20*t*x**3 - 5*x**4) / t\n",
    "    return eval\n",
    "\n",
    "\n",
    "# Firma pregunta 2: b)\n",
    "'''\n",
    "input:\n",
    "f           : (callable) función a calcular la raíz usando método de Newton.\n",
    "fp          : (callable) derivada de f.\n",
    "x0          : (float)    initial guess para el método de newton.\n",
    "t           : (float)    parámetro a mantener fijo en la evaluación de las funciones.\n",
    "rel_error   : (float)    error relativo como criterio de parada (ver jupyters del curso).\n",
    "\n",
    "output:\n",
    "root        : (float)    raíz encontrada por el método de newton\n",
    "'''\n",
    "def newton_method(f, fp, x0, t, rel_error=1e-8):\n",
    "    root = x0 - ((f(x0,t))/(fp(x0,t)))\n",
    "    while (np.abs(root-x0)>rel_error):\n",
    "        x0 = root\n",
    "        root = x0 - ((f(x0,t))/(fp(x0,t)))\n",
    "    return root\n",
    "\n",
    "\n",
    "# Firma pregunta 2: c)\n",
    "'''\n",
    "input:\n",
    "f           : (callable) función a calcular la raíz con metodo de la secante.\n",
    "x0          : (float)    initial guess 1 para el método de la secante.\n",
    "x1          : (float)    initial guess 2 para el método de la secante.\n",
    "iters       : (int)      cantidad maxima de iteraciones como criterio de parada.\n",
    "t           : (float)    parámetro a mantener fijo en la evaluación de las funciones.\n",
    "\n",
    "output:\n",
    "root    : (float) raíz encontrada por el método de newton\n",
    "'''\n",
    "def secant(f, x0, x1, t, iters=100):\n",
    "    root = x1 - ((f2_fixed(x1,t)*(x1-x0))/(f2_fixed(x1,t)-f2_fixed(x0,t)))\n",
    "    for i in range(iters):\n",
    "        if (np.abs(root-x1)<1e-8):\n",
    "            break\n",
    "        x0 = x1\n",
    "        x1 = root\n",
    "        root = x1 - ((f2_fixed(x1,t)*(x1-x0))/(f2_fixed(x1,t)-f2_fixed(x0,t)))\n",
    "    return root"
   ]
  },
  {
   "cell_type": "code",
   "execution_count": 37,
   "id": "48b9cdc5",
   "metadata": {},
   "outputs": [],
   "source": [
    "def biseccion(a, b, f, TOL):\n",
    "    ite = 0\n",
    "    while((b-a)/2 > TOL):\n",
    "        ite = ite+1\n",
    "        c=(a+b)/2\n",
    "        if(f(c)==0):\n",
    "            break\n",
    "        if(f(a)*f(b)<0):\n",
    "            b=c\n",
    "        else:\n",
    "            a=c\n",
    "    return ((a+b)/2), ite\n"
   ]
  },
  {
   "cell_type": "code",
   "execution_count": 38,
   "id": "018f87a4",
   "metadata": {},
   "outputs": [
    {
     "name": "stdout",
     "output_type": "stream",
     "text": [
      "La raiz es:  1.25 con  53 iteraciones\n"
     ]
    }
   ],
   "source": [
    "def f(x):\n",
    "    return (x**3 + 4*x**2 - 10)\n",
    "\n",
    "tol=0.5*(10**(-1000000000000000000000000))\n",
    "\n",
    "raiz, n = biseccion(1, 2, f, tol)\n",
    "\n",
    "print(\"La raiz es: \", raiz, \"con \", n, \"iteraciones\")"
   ]
  },
  {
   "cell_type": "code",
   "execution_count": 36,
   "id": "4242ce10",
   "metadata": {},
   "outputs": [
    {
     "name": "stdout",
     "output_type": "stream",
     "text": [
      "-1.796875\n"
     ]
    }
   ],
   "source": [
    "\n",
    "print((raiz**3) + (4*(raiz**2)) -10)\n",
    "\n"
   ]
  },
  {
   "cell_type": "code",
   "execution_count": 41,
   "id": "7ab899e4",
   "metadata": {},
   "outputs": [
    {
     "name": "stdout",
     "output_type": "stream",
     "text": [
      "13.6875\n"
     ]
    }
   ],
   "source": [
    "print(np.abs(1-3*(1.25**2) - 8*(1.25)))\n"
   ]
  },
  {
   "cell_type": "code",
   "execution_count": null,
   "id": "1e3d6015",
   "metadata": {},
   "outputs": [],
   "source": []
  }
 ],
 "metadata": {
  "colab": {
   "collapsed_sections": [],
   "name": "ROL-tarea-0.ipynb",
   "provenance": []
  },
  "kernelspec": {
   "display_name": "Python 3 (ipykernel)",
   "language": "python",
   "name": "python3"
  },
  "language_info": {
   "codemirror_mode": {
    "name": "ipython",
    "version": 3
   },
   "file_extension": ".py",
   "mimetype": "text/x-python",
   "name": "python",
   "nbconvert_exporter": "python",
   "pygments_lexer": "ipython3",
   "version": "3.7.11"
  }
 },
 "nbformat": 4,
 "nbformat_minor": 5
}
