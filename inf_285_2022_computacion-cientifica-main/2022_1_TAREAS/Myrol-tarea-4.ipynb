{
  "cells": [
    {
      "cell_type": "markdown",
      "source": [
        "<center>\n",
        "    <h1> INF285 - Computación Científica </h1>\n",
        "    <h2> Tarea 4 - Código Base</h2>\n",
        "    <h2> [S]cientific [C]omputing [T]eam </a> </h2>\n",
        "    <h2> Version: 1.00</h2>\n",
        "</center>"
      ],
      "metadata": {
        "tags": [],
        "cell_id": "cab92cc6-eee6-4528-975f-7148bdf9fb72",
        "deepnote_cell_type": "markdown",
        "deepnote_cell_height": 270,
        "id": "U8t9eSjp9g6f"
      }
    },
    {
      "cell_type": "markdown",
      "source": [
        "# No debe utilizar bibliotecas adicionales."
      ],
      "metadata": {
        "tags": [],
        "cell_id": "00001-dc028b02-53da-4834-9e41-0ee449223250",
        "deepnote_cell_type": "markdown",
        "deepnote_cell_height": 82,
        "id": "j1LJML5M9g6k"
      }
    },
    {
      "cell_type": "code",
      "metadata": {
        "tags": [],
        "deepnote_to_be_reexecuted": false,
        "source_hash": "2886e06f",
        "execution_start": 1657348301033,
        "execution_millis": 131,
        "cell_id": "00002-630aeb23-2361-4546-a6bd-db4c62bf9e43",
        "owner_user_id": "411cc8b2-ed84-44f8-8aca-6520ce2faa7b",
        "deepnote_cell_type": "code",
        "deepnote_cell_height": 99,
        "id": "bkSMsdpD9g6k"
      },
      "source": [
        "import numpy as np\n",
        "from scipy import linalg"
      ],
      "outputs": [],
      "execution_count": 7
    },
    {
      "cell_type": "markdown",
      "source": [
        "# Funciones a implementar:"
      ],
      "metadata": {
        "tags": [],
        "cell_id": "00003-4d9d16fc-b366-4d56-bc6d-1440cdc3a216",
        "deepnote_cell_type": "markdown",
        "deepnote_cell_height": 82,
        "id": "3Z1pVNMD9g6m"
      }
    },
    {
      "cell_type": "code",
      "metadata": {
        "tags": [],
        "deepnote_to_be_reexecuted": false,
        "source_hash": "7c8553cc",
        "execution_start": 1657346566210,
        "execution_millis": 0,
        "cell_id": "00004-96a2dc3f-642e-41af-8867-71c6d19aa6bd",
        "deepnote_cell_type": "code",
        "deepnote_cell_height": 1521,
        "id": "3pTAnNxH9g6m"
      },
      "source": [
        "# N = n <<<<<<<<<<<<<<<<<<<<<<<< ojo\n",
        "def matrix_A(alfa, n):\n",
        "    \"\"\"\n",
        "    Parameters\n",
        "    ----------\n",
        "    alfa          :float\n",
        "                     Thermal conductivity\n",
        "    n             : int\n",
        "                     Number of coefficients\n",
        "    Returns\n",
        "    -------\n",
        "    A             : (n,n)-array\n",
        "                     Heat coefficients\n",
        "    \"\"\"\n",
        "    A = np.zeros((n,n))\n",
        "    L = 1\n",
        "    deltax = L/(n+1)\n",
        "    cte = alfa/(deltax**2)\n",
        "    for i in range(n-1):\n",
        "      A[i][i]=cte*(-2)\n",
        "      A[i][i+1]=cte\n",
        "      A[i+1][i]=cte\n",
        "    A[n-1][n-1]=cte*(-2)\n",
        "    return A\n",
        "\n",
        "\n",
        "def GMREs(A,b,x0=np.array([0.0]), m=10, threshold=1e-12): # Referencia 2.\n",
        "    \"\"\"\n",
        "    Parameters\n",
        "    ----------\n",
        "    A              : (n,n)-array \n",
        "                    Discretization matrix\n",
        "    b              : (n, )-array\n",
        "                    Target               \n",
        "    x0             : (n,)-array float\n",
        "                    Initial conditions array\n",
        "    m              : int\n",
        "                    Krylov space Components\n",
        "    threshold      : float\n",
        "                    Minimum residue error value           \n",
        "\n",
        "    Returns\n",
        "    -------\n",
        "    x             : (n, )-array\n",
        "                     Solutions\n",
        "    out_res       : (n,)-array\n",
        "                     Residual error\n",
        "    \"\"\"\n",
        "    n = len(b)\n",
        "    if len(x0)==1:\n",
        "        x0=np.zeros(n)\n",
        "    r0 = b - np.dot(A, x0)\n",
        "    nr0=np.linalg.norm(r0)\n",
        "    out_res=np.array(nr0)\n",
        "    Q = np.zeros((n,n))\n",
        "    H = np.zeros((n,n))\n",
        "    Q[:,0] = r0 / nr0\n",
        "    flag_break=False\n",
        "    for k in np.arange(np.min((m,n))):\n",
        "        y = np.dot(A, Q[:,k])\n",
        "        for j in np.arange(k+1):\n",
        "            H[j][k] = np.dot(Q[:,j], y)\n",
        "            y = y - np.dot(H[j][k],Q[:,j])\n",
        "        if k+1<n:\n",
        "            H[k+1][k] = np.linalg.norm(y)\n",
        "            if (np.abs(H[k+1][k]) > 1e-16):\n",
        "                Q[:,k+1] = y/H[k+1][k]\n",
        "            else:\n",
        "                flag_break=True\n",
        "            e1 = np.zeros((k+1)+1)        \n",
        "            e1[0]=1\n",
        "            H_tilde=H[0:(k+1)+1,0:k+1]\n",
        "        else:\n",
        "            H_tilde=H[0:k+1,0:k+1]\n",
        "        ck = np.linalg.lstsq(H_tilde, nr0*e1,rcond=None)[0] \n",
        "        if k+1<n:\n",
        "            x = x0 + np.dot(Q[:,0:(k+1)], ck)\n",
        "        else:\n",
        "            x = x0 + np.dot(Q, ck)\n",
        "        norm_small=np.linalg.norm(np.dot(H_tilde,ck)-nr0*e1)\n",
        "        out_res = np.append(out_res,norm_small)\n",
        "        if flag_break:\n",
        "            break\n",
        "        if norm_small<threshold:\n",
        "            break\n",
        "    return x, out_res\n",
        "\n",
        "\n",
        "def eig_vals_and_vects(A, iv):\n",
        "    \"\"\"\n",
        "    Parameters\n",
        "    ----------\n",
        "    A              : (n,n)-array \n",
        "                    Discretization matrix\n",
        "    iv             : (n,)-array float\n",
        "                    Initial values array         \n",
        "    Returns\n",
        "    -------\n",
        "    eVals          : (n, )-array\n",
        "                     Eigenvalues\n",
        "    eVects         : (n,n)-array\n",
        "                     Eigenvectors\n",
        "    C              : (n, )-array\n",
        "                     System solution\n",
        "    residue        : (n, )-array\n",
        "                     GMREs residue              \n",
        "    \"\"\"\n",
        "    eVals, eVects = linalg.eig(A)\n",
        "    eVals = eVals.real\n",
        "    eVects = eVects.real\n",
        "    C, residue = GMREs(eVects, iv)\n",
        "    return eVals, eVects, C, residue\n",
        "\n",
        "\n",
        "def build_u(n, k, iv):\n",
        "    \"\"\"\n",
        "    Parameters\n",
        "    ----------\n",
        "    n             : int\n",
        "                   Discretization components\n",
        "    k             : int\n",
        "                   thermal diffusivity                    \n",
        "    iv            : (n, )-array float\n",
        "                   initial values array\n",
        "    Returns\n",
        "    -------\n",
        "    u             : callable\n",
        "                   Solved heat function         \n",
        "    \"\"\"\n",
        "    A = matrix_A(k,n)\n",
        "    a, v, c, _ = eig_vals_and_vects(A, iv)\n",
        "    u = lambda t: np.sum(np.array([c[i]*np.exp(a[i]*t)*v[:,i] for i in range(n)]), axis=0)\n",
        "    return u\n"
      ],
      "outputs": [],
      "execution_count": 8
    },
    {
      "cell_type": "markdown",
      "source": [
        "# Referencias\n",
        "  \n",
        "\n",
        "1.   Apunte de Computación Científica 2022-v0.601, Claudio Torres\n",
        "2.   Jupiter Notebook \"*09_GMRes.ipynb*\" versión 1.22 del curso Computación Científica, (Autor: Claudio Torres)"
      ],
      "metadata": {
        "id": "ni9TNQdhkOGI"
      }
    },
    {
      "cell_type": "markdown",
      "source": [
        "<a style='text-decoration:none;line-height:16px;display:flex;color:#5B5B62;padding:10px;justify-content:end;' href='https://deepnote.com?utm_source=created-in-deepnote-cell&projectId=a11cc422-5899-4dee-a9b0-08ff225abaf8' target=\"_blank\">\n",
        "<img alt='Created in deepnote.com' style='display:inline;max-height:16px;margin:0px;margin-right:7.5px;' src='data:image/svg+xml;base64,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' > </img>\n",
        "Created in <span style='font-weight:600;margin-left:4px;'>Deepnote</span></a>"
      ],
      "metadata": {
        "tags": [],
        "created_in_deepnote_cell": true,
        "deepnote_cell_type": "markdown",
        "id": "46FIjBFU9g6o"
      }
    }
  ],
  "nbformat": 4,
  "nbformat_minor": 0,
  "metadata": {
    "orig_nbformat": 2,
    "deepnote": {},
    "deepnote_notebook_id": "db46ea79-9ad5-492d-825a-54a23d391720",
    "deepnote_execution_queue": [],
    "colab": {
      "name": "201811526-6-tarea-4.ipynb",
      "provenance": [],
      "collapsed_sections": []
    },
    "language_info": {
      "name": "python"
    },
    "kernelspec": {
      "name": "python3",
      "display_name": "Python 3"
    },
    "gpuClass": "standard"
  }
}