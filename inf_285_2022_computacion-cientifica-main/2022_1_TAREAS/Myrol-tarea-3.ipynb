{
 "cells": [
  {
   "cell_type": "markdown",
   "metadata": {
    "cell_id": "54095dd3-b516-4706-8f6e-384a8946dafb",
    "deepnote_cell_height": 200,
    "deepnote_cell_type": "markdown",
    "id": "w6UqhpPS7447"
   },
   "source": [
    "<center>\n",
    "    <h1> INF285 - Computación Científica</h1>\n",
    "    <h1> Tarea 3: Código base </h1>                \n",
    "    <h4> 2022 </h4>\n",
    "</center>"
   ]
  },
  {
   "cell_type": "markdown",
   "metadata": {
    "cell_id": "00001-2c69a739-c981-41b9-9e51-448b519839ef",
    "deepnote_cell_height": 475,
    "deepnote_cell_type": "markdown",
    "id": "3W54Np2k8cQr"
   },
   "source": [
    "# Instrucciones\n",
    "* La tarea debe ser realizada en `Jupyter Notebook` (`Python3`).\n",
    "* **No modifique la firma de las funciones** (a menos que se le diga lo contrario) y respete el output que se le exije. **En caso de no respetar esta regla la función se considerará errónea y obtendrá la nota 0.**\n",
    "* **Asegúrese de que su notebook se ejecute de forma correcta en el orden de las celdas establecido.** Una forma de verificar esto es reiniciar el kernel del notebook y ejecutar todas las celdas nuevamente. **En caso de que su notebook no logre ejecutarse de esta forma se evaluará con nota 0.**  \n",
    "*  **El archivo de entrega debe denominarse ROL-tarea-3.ipynb**. _De no respetarse este formato existirá un descuento de **50 puntos**_.\n",
    "* **No realice prints ni pida inputs**, entregue solo las funciones solicitadas. _De no respetarse este formato existirá un descuento de 50 puntos._\n",
    "* No se revisarán funciones incompletas.\n",
    "* No se revisarán tareas fuera de plazo.\n",
    "* Tareas que demoren más de 5 minutos en ejecutarse recibirán nota 0.\n",
    "* Debe citar cualquier código ajeno utilizado (incluso si proviene de los Jupyter Notebooks del curso).\n",
    "* Puede agregar funciones extras siempre y cuando **no interfieran en las firmas** de las funciones principales establecidas.\n",
    "\n"
   ]
  },
  {
   "cell_type": "markdown",
   "metadata": {
    "cell_id": "3f19009cb50647598175de5ea68d518e",
    "deepnote_cell_height": 2152.96875,
    "deepnote_cell_type": "markdown",
    "tags": []
   },
   "source": [
    "# Contexto\n",
    "\n",
    "\n",
    "La utilización de interpolaciones polinomiales en una dimensión es fundamental para realizar aproximaciones de polinomios de la forma $p(x)$, siendo estas interpolaciones realizadas a partir de puntos con la forma $(x_0, y_0), (x_1, y_1), ..., (x_n, y_n)$. Cabe destacar que entre esos puntos pueden existir infinitos polinomios que los interpolen, pero la idea principal de los algoritmos vistos en clases es construir uno solo que sea el de grado mínimo que logre interpolar esos puntos. Es por esto que se desea llevar esta gran idea a un nivel más allá, pensándolo en una aproximación de mayor grado para funciones $F(x,y)$ que sean muy costosas de construir, siendo a su vez funciones no separables, es decir, $F(x,y) \\neq f(x)\\cdot g(y) $, y que los puntos a interpolar sigan un patrón de grilla.\n",
    "\n",
    "Si se analiza una posible función $F(x,y)$ arbitraria que cumpla con lo anterior, es posible notar que dado unos puntos $(x_0, y_0), (x_0, y_1), (x_1, y_0), (x_1, y_1), ..., (x_n, y_m)$, se obtiene que $F(x_0, y_0) = f_{0,0}, F(x_0, y_1) = f_{0,1}, F(x_1, y_0) = f_{1,0}, F(x_1, y_1) = f_{1,1}, … F(x_n, y_m) = f_{n,m}$ como se ve en la siguiente gráfica:\n",
    "\n",
    "\n",
    "![](https://paper-attachments.dropbox.com/s_419F5B7E89C545005FF8BE0145E6F9D335F6C77F45E14D3191B3D2953C89DEEA_1653533988309_image.png)\n",
    "\n",
    "\n",
    "Sólo como aclaración ante posibles dudas el eje horizontal sería x conteniendo n puntos, mientras que el eje vertical sería y con m puntos. La idea de está tarea es llevar lo visto en clases de interpolación a un tipo de interpolación modificada para dos dimensiones con los métodos de vandermonde, Lagrange y Baricéntrica. Para ello es necesario realizar algunas aproximaciones $F(x,y) \\approx P(x, y) $ que se detallarán a continuación:\n",
    "\n",
    "\n",
    "- Interpolación de Vandermonde 2D:  $P(x, y)=\\sum_{i=0}^{n-1} \\sum_{j=0}^{m-1}  a_{i j} \\cdot x^{i} \\cdot y^{j}$\n",
    "- Interpolación de Lagrange 2D: $P(x, y)=\\sum_{i=0}^{n-1} \\sum_{j=0}^{m-1}  f_{i j} \\cdot L_i(x) \\cdot L_j(y)$\n",
    "- Por último, la Interpolación Baricéntrica 2D recordar que igual que su par en 1D se obtiene a partir de Lagrange, notar que en este caso se puede conectar si se realiza lo siguiente:\n",
    "\n",
    "    $L_i(x)=\\frac{\\dfrac{w_i}{(x-x_i)}}{\\displaystyle\\sum_{k=1}^n \\dfrac{w_k}{(x-x_k)}}$ y $L_j(y)=\\frac{\\dfrac{w_j}{(y-y_j)}}{\\displaystyle\\sum_{l=1}^n \\dfrac{w_l}{(y-y_l)}}$\n",
    "- Con esto la Interpolación Baricéntrica en 2D queda: \n",
    "\n",
    "\n",
    "$$P(x,y)=\\dfrac{\\displaystyle\\sum_{i=1}^n \\displaystyle\\sum_{j=1}^m \\,f_{i,j}\\,\\dfrac{w_i}{(x-x_i)}\\,\\dfrac{w_j}{(y-y_j)}}{\\left(\\displaystyle\\sum_{k=1}^n \\dfrac{w_k}{(x-x_k)}\\right)\\,\\left(\\displaystyle\\sum_{l=1}^n \\dfrac{w_l}{(y-y_l)}\\right)}$$\n",
    "\n",
    "Nota: En la interpolación baricéntrica hay que tener cuidado cuando se interpola en un punto de interpolación, en 1D es más simple pero en 2D se pone un poco más desafiante dado que tanto el x como el y pueden ser un punto de interpolación, no necesariamente al mismo tiempo.\n",
    "\n",
    "Sabiendo lo anterior, se le solicita que realice las siguientes actividades:\n",
    "\n",
    "\n",
    "1. Implementar cada una de las interpolaciones en 2D, para ello puede apoyarse en las implementaciones del curso en 1D como base inicial.\n",
    "2. Con la interpolación de vandermonde en 2D construida anteriormente realice experimentaciones para obtener la dependencia con la que crece la matriz de vandermonde. Luego, indique el tamaño de la matriz si hubieran $n = 99$ puntos $x_i$ y $m = 50$ puntos $y_i$ su respuesta dentro del espacio dado. Ojo: Sigan el orden dado dentro de la fórmula y la grilla vista en el gráfico o obtendrán la respuesta al revés! \n",
    "\n",
    "\n",
    "3. Realice las siguientes actividades con el siguiente ejemplo:\n",
    "\n",
    "$ x = \\begin{pmatrix}\n",
    "1 & 2 & 3 & 4 & 5 & 6\n",
    "\\end{pmatrix}$, \n",
    "\n",
    "$ y = \\begin{pmatrix}\n",
    "1 & 2 & 3 & 4 & 5 & 6\n",
    "\\end{pmatrix}$, \n",
    "\n",
    "$ f = \\begin{pmatrix}\n",
    "1 & \\frac{1}{2} & \\frac{1}{3} & \\frac{1}{4} & \\frac{1}{5} & \\frac{1}{6}\\\\\n",
    "\\frac{1}{2} & \\frac{1}{6} & \\frac{1}{12} & \\frac{1}{20} & \\frac{1}{30} & \\frac{1}{42}\\\\\n",
    "\\frac{1}{3} & \\frac{1}{12} & \\frac{1}{30} & \\frac{1}{60} & \\frac{1}{105} & \\frac{1}{168}\\\\\n",
    "\\frac{1}{4} & \\frac{1}{20} & \\frac{1}{60} & \\frac{1}{140} & \\frac{1}{280} & \\frac{1}{504}\\\\\n",
    "\\frac{1}{5} & \\frac{1}{30} & \\frac{1}{105} & \\frac{1}{280} & \\frac{1}{630} & \\frac{1}{1260}\\\\\n",
    "\\frac{1}{6} & \\frac{1}{42} & \\frac{1}{168} & \\frac{1}{504} & \\frac{1}{1260} & \\frac{1}{2772}\n",
    "\\end{pmatrix}$\n",
    "\n",
    "    3.1. Construya una función que obtenga el polinomio interpolador en 2D con alguno de sus algoritmos.\n",
    "    3.2. Construya una función que obtenga nuevamente el polinomio interpolador, pero aplicando puntos de chevyshev.\n",
    "    3.3. Construya una función que evalué un punto (x,y) en ambos polinomios y retorne el error absoluto en cada uno ellos respecto al valor real.\n",
    "    3.4. Construya una función que construya, evalue y luego compare el error que se obtiene de ambos polinomios y retorne True si al aplicar puntos de Chevyshev obtiene una respuesta de mayor calidad (menor error) o False si ocurre lo contrario. Utilice el siguiente ejemplo F(3.6, 4.3) = 0.007983954 e indique sus resultados en aula.\n"
   ]
  },
  {
   "cell_type": "markdown",
   "metadata": {
    "cell_id": "00002-ca25a27c-bdc0-4657-810f-9987a3a28479",
    "deepnote_cell_height": 82,
    "deepnote_cell_type": "markdown",
    "id": "_mucBAuX-PH0"
   },
   "source": [
    "# No debe utilizar librerías adicionales."
   ]
  },
  {
   "cell_type": "code",
   "execution_count": 4,
   "metadata": {
    "cell_id": "00003-ff527cdd-394d-492f-9fba-63eb06586f0f",
    "deepnote_cell_height": 81,
    "deepnote_cell_type": "code",
    "deepnote_to_be_reexecuted": false,
    "execution_millis": 0,
    "execution_start": 1653632207492,
    "id": "xuUU2etg-Tln",
    "source_hash": "c2602aa8"
   },
   "outputs": [],
   "source": [
    "import numpy as np"
   ]
  },
  {
   "cell_type": "markdown",
   "metadata": {
    "cell_id": "00006-e25022aa-7752-4ec9-8404-2eff66a9d1d3",
    "deepnote_cell_height": 82,
    "deepnote_cell_type": "markdown",
    "id": "F0wfzz2G-mdg"
   },
   "source": [
    "# Funciones a implementar"
   ]
  },
  {
   "cell_type": "markdown",
   "metadata": {
    "cell_id": "3fa36a60793c4703a0dd98ea29b81387",
    "deepnote_cell_height": 62,
    "deepnote_cell_type": "markdown",
    "tags": []
   },
   "source": [
    "### Primera actividad"
   ]
  },
  {
   "cell_type": "code",
   "execution_count": 35,
   "metadata": {
    "cell_id": "00007-251f6c40-1037-406d-8271-94fdd82cd655",
    "deepnote_cell_height": 603,
    "deepnote_cell_type": "code",
    "deepnote_to_be_reexecuted": false,
    "execution_millis": 0,
    "execution_start": 1653629565032,
    "id": "lzfu5t9w5hd9",
    "source_hash": "edc06473"
   },
   "outputs": [
    {
     "ename": "ZeroDivisionError",
     "evalue": "division by zero",
     "output_type": "error",
     "traceback": [
      "\u001b[1;31m---------------------------------------------------------------------------\u001b[0m",
      "\u001b[1;31mZeroDivisionError\u001b[0m                         Traceback (most recent call last)",
      "\u001b[1;32m~\\AppData\\Local\\Temp/ipykernel_2028/880857283.py\u001b[0m in \u001b[0;36m<module>\u001b[1;34m\u001b[0m\n\u001b[0;32m    117\u001b[0m     [1/6, 1/12, 1/168, 1/504, 1/1260, 1/2772]]\n\u001b[0;32m    118\u001b[0m \u001b[0mP\u001b[0m \u001b[1;33m=\u001b[0m \u001b[0mBaricentrica2D\u001b[0m\u001b[1;33m(\u001b[0m\u001b[0mx\u001b[0m\u001b[1;33m,\u001b[0m\u001b[0my\u001b[0m\u001b[1;33m,\u001b[0m\u001b[0mf\u001b[0m\u001b[1;33m)\u001b[0m\u001b[1;33m\u001b[0m\u001b[1;33m\u001b[0m\u001b[0m\n\u001b[1;32m--> 119\u001b[1;33m \u001b[0mprint\u001b[0m\u001b[1;33m(\u001b[0m\u001b[0mP\u001b[0m\u001b[1;33m(\u001b[0m\u001b[1;36m3\u001b[0m\u001b[1;33m,\u001b[0m\u001b[1;36m1\u001b[0m\u001b[1;33m)\u001b[0m\u001b[1;33m)\u001b[0m\u001b[1;33m\u001b[0m\u001b[1;33m\u001b[0m\u001b[0m\n\u001b[0m",
      "\u001b[1;32m~\\AppData\\Local\\Temp/ipykernel_2028/880857283.py\u001b[0m in \u001b[0;36mPoly\u001b[1;34m(X, Y)\u001b[0m\n\u001b[0;32m     91\u001b[0m         \u001b[0mizq\u001b[0m \u001b[1;33m=\u001b[0m \u001b[1;36m0\u001b[0m\u001b[1;33m\u001b[0m\u001b[1;33m\u001b[0m\u001b[0m\n\u001b[0;32m     92\u001b[0m         \u001b[0mder\u001b[0m \u001b[1;33m=\u001b[0m \u001b[1;36m0\u001b[0m\u001b[1;33m\u001b[0m\u001b[1;33m\u001b[0m\u001b[0m\n\u001b[1;32m---> 93\u001b[1;33m         \u001b[0mw_x\u001b[0m \u001b[1;33m=\u001b[0m \u001b[0mw_vector\u001b[0m\u001b[1;33m(\u001b[0m\u001b[0mX\u001b[0m\u001b[1;33m,\u001b[0m \u001b[0mx\u001b[0m\u001b[1;33m,\u001b[0m \u001b[0mn\u001b[0m\u001b[1;33m)\u001b[0m\u001b[1;33m\u001b[0m\u001b[1;33m\u001b[0m\u001b[0m\n\u001b[0m\u001b[0;32m     94\u001b[0m         \u001b[0mw_y\u001b[0m \u001b[1;33m=\u001b[0m \u001b[0mw_vector\u001b[0m\u001b[1;33m(\u001b[0m\u001b[0mY\u001b[0m\u001b[1;33m,\u001b[0m \u001b[0my\u001b[0m\u001b[1;33m,\u001b[0m \u001b[0mm\u001b[0m\u001b[1;33m)\u001b[0m\u001b[1;33m\u001b[0m\u001b[1;33m\u001b[0m\u001b[0m\n\u001b[0;32m     95\u001b[0m         \u001b[1;32mfor\u001b[0m \u001b[0mi\u001b[0m \u001b[1;32min\u001b[0m \u001b[0mrange\u001b[0m\u001b[1;33m(\u001b[0m\u001b[0mn\u001b[0m\u001b[1;33m)\u001b[0m\u001b[1;33m:\u001b[0m\u001b[1;33m\u001b[0m\u001b[1;33m\u001b[0m\u001b[0m\n",
      "\u001b[1;32m~\\AppData\\Local\\Temp/ipykernel_2028/880857283.py\u001b[0m in \u001b[0;36mw_vector\u001b[1;34m(X, x, n)\u001b[0m\n\u001b[0;32m     29\u001b[0m     \u001b[0mw\u001b[0m \u001b[1;33m=\u001b[0m \u001b[0mnp\u001b[0m\u001b[1;33m.\u001b[0m\u001b[0mones\u001b[0m\u001b[1;33m(\u001b[0m\u001b[0mn\u001b[0m\u001b[1;33m)\u001b[0m\u001b[1;33m\u001b[0m\u001b[1;33m\u001b[0m\u001b[0m\n\u001b[0;32m     30\u001b[0m     \u001b[1;32mfor\u001b[0m \u001b[0mi\u001b[0m \u001b[1;32min\u001b[0m \u001b[0mrange\u001b[0m\u001b[1;33m(\u001b[0m\u001b[0mn\u001b[0m\u001b[1;33m)\u001b[0m\u001b[1;33m:\u001b[0m\u001b[1;33m\u001b[0m\u001b[1;33m\u001b[0m\u001b[0m\n\u001b[1;32m---> 31\u001b[1;33m         \u001b[0mw\u001b[0m\u001b[1;33m[\u001b[0m\u001b[0mi\u001b[0m\u001b[1;33m]\u001b[0m \u001b[1;33m=\u001b[0m \u001b[1;36m1\u001b[0m\u001b[1;33m/\u001b[0m\u001b[0mli\u001b[0m\u001b[1;33m(\u001b[0m\u001b[0mX\u001b[0m\u001b[1;33m,\u001b[0m \u001b[0mi\u001b[0m\u001b[1;33m,\u001b[0m \u001b[0mx\u001b[0m\u001b[1;33m,\u001b[0m \u001b[0mn\u001b[0m\u001b[1;33m)\u001b[0m\u001b[1;33m\u001b[0m\u001b[1;33m\u001b[0m\u001b[0m\n\u001b[0m\u001b[0;32m     32\u001b[0m     \u001b[1;32mreturn\u001b[0m \u001b[0mw\u001b[0m\u001b[1;33m\u001b[0m\u001b[1;33m\u001b[0m\u001b[0m\n\u001b[0;32m     33\u001b[0m \u001b[1;33m\u001b[0m\u001b[0m\n",
      "\u001b[1;31mZeroDivisionError\u001b[0m: division by zero"
     ]
    }
   ],
   "source": [
    "\"\"\"FUNCIONES AUXILIARES\"\"\"\n",
    "\n",
    "\"\"\"\n",
    "Función li\n",
    "Inputs:\n",
    "    X : Variable x a evaluar\n",
    "    i : El nro de iteración actual\n",
    "    x : Arreglo con n puntos con la forma [x_0, x_1, ..., x_n] (coordenadas de los puntos)\n",
    "    n : Largo del arreglo x\n",
    "Output:\n",
    "    Entrrega la productoria hasta n de: (el valor X entregado menos cada elemento k del vector x). Exceptúa el valor de x_k correspondiente al de la iteración actual i\n",
    "\"\"\"\n",
    "def li(X, i, x, n):\n",
    "    prod = 1\n",
    "    for k in range(n):\n",
    "        if k != i:\n",
    "            prod = prod * (X - x[k])\n",
    "    return prod\n",
    "\n",
    "\"\"\"\n",
    "Función w_vector\n",
    "Inputs:\n",
    "    x : Arreglo con n puntos con la forma [x_0, x_1, ..., x_n]\n",
    "    n : Largo del arreglo x\n",
    "Output:\n",
    "    Arreglo con los valores w_i calculados\n",
    "\"\"\"\n",
    "def w_vector(X, x, n):\n",
    "    w = np.ones(n)\n",
    "    for i in range(n):\n",
    "        w[i] = 1/li(X, i, x, n)\n",
    "    return w\n",
    "\n",
    "\"\"\"\n",
    "Función L\n",
    "Inputs:\n",
    "    x : Arreglo con n puntos con la forma [x_0, x_1, ..., x_n]\n",
    "    i :  iteración actual\n",
    "    X :  variable x a evaluar\n",
    "    w : Arreglo de valores w precalculados\n",
    "\"\"\"\n",
    "def L(X, x, i, w):\n",
    "    return w[i]/(X-x[i])\n",
    "    \n",
    "\n",
    "\"\"\"\n",
    "Nota: En este caso se tienen los mismos inputs y outputs,\n",
    "así que sólo se indicarán una vez para no ser redundantes.\n",
    "\n",
    "Funciones: Vandermonde2D, Lagrange2D, Baricentrica2D\n",
    "Inputs:\n",
    "    x: Arreglo con n puntos con la forma [x_0, x_1, ..., x_n]\n",
    "    y: Arreglo con m puntos con la forma [y_0, y_1, ..., y_m]\n",
    "    f: Matriz de n x m valores que contiene la evaluación F(x_i,y_j) = f_{i,j}\n",
    "       para todo valor de i entre 0 y n, y j entre 0 y m, la matriz tiene la forma\n",
    "       [[f_{0,0}, f_{1,0}, ..., f_{n,0}],\n",
    "        [f_{0,1}, f_{1,1}, ..., f_{n,1}],\n",
    "        ...., \n",
    "        [f_{0,m}, f_{1,m}, ..., f_{n,m}]]\n",
    "Outputs:\n",
    "    Poly: Polinomio interpolador obtenido con el algoritmo correspondiente\n",
    "\"\"\"\n",
    "\n",
    "def Vandermonde2D(x,y,f):\n",
    "    # Your code\n",
    "    return Poly\n",
    "\n",
    "\n",
    "def Lagrange2D(x,y,f):\n",
    "    n = len(x)\n",
    "    m = len(y)\n",
    "    def Poly(var_x, var_y):\n",
    "        P = 0\n",
    "        for i in range(n):\n",
    "            li_num = lambda X: li(X, i, x, n)\n",
    "            li_denom = li(x[i], i, x, n)\n",
    "            for j in range(m):\n",
    "                lj_num = lambda Y: li(Y, j, y, m)\n",
    "                lj_denom = li(y[j], j, y, m)\n",
    "                P = P + f[i][j]*(li_num(var_x)/li_denom)*(lj_num(var_y)/lj_denom)\n",
    "        return P\n",
    "    return Poly\n",
    "\n",
    "\n",
    "def Baricentrica2D(x,y,f):\n",
    "    n = len(x)\n",
    "    m = len(y)\n",
    "\n",
    "    def Poly(X, Y):\n",
    "        num = 0\n",
    "        izq = 0\n",
    "        der = 0\n",
    "        w_x = w_vector(X, x, n)\n",
    "        w_y = w_vector(Y, y, m)\n",
    "        for i in range(n):\n",
    "            for j in range(m):\n",
    "                Lx = lambda X: L(X, x, i, w_x)\n",
    "                Ly = lambda Y: L(Y, y, i, w_y)\n",
    "                num += f[i][j] * Lx(X) * Ly(Y)\n",
    "        for k in range(n):\n",
    "            Lk = lambda X: L(X, x, i, w_x)\n",
    "            izq += Lk(X)\n",
    "        for l in range(m):\n",
    "            Ll = lambda Y: L(Y, y, i, w_y)\n",
    "            der += Ll(Y)\n",
    "        return num/(izq*der)\n",
    "    return Poly\n",
    "\n"
   ]
  },
  {
   "cell_type": "markdown",
   "metadata": {
    "cell_id": "92b731c426ed41a2ae10e68462025be0",
    "deepnote_cell_height": 62,
    "deepnote_cell_type": "markdown",
    "tags": []
   },
   "source": [
    "### Segunda actividad"
   ]
  },
  {
   "cell_type": "code",
   "execution_count": null,
   "metadata": {
    "cell_id": "f6c0452ddfb94183be637bcae322954f",
    "deepnote_cell_height": 84,
    "deepnote_cell_type": "code",
    "tags": []
   },
   "outputs": [],
   "source": [
    "# Your experiments, don't forget to fill your answer(s) in Aula!\n",
    "# And remember to not leave prints!"
   ]
  },
  {
   "cell_type": "markdown",
   "metadata": {
    "cell_id": "4b25ae11b81d4f659eeb2f0012fc666e",
    "deepnote_cell_height": 62,
    "deepnote_cell_type": "markdown",
    "tags": []
   },
   "source": [
    "### Tercera actividad"
   ]
  },
  {
   "cell_type": "code",
   "execution_count": null,
   "metadata": {
    "cell_id": "d8935b68c6b645c98157c77cb7033ed2",
    "deepnote_cell_height": 1092,
    "deepnote_cell_type": "code",
    "owner_user_id": "61b918f1-8715-4e25-b619-581252155317",
    "tags": []
   },
   "outputs": [],
   "source": [
    "\"\"\"\n",
    "Funciones: obtainPolinomial, obtainPolinomialWithChevyshev\n",
    "Inputs:\n",
    "    x: Arreglo con n puntos con la forma [x_0, x_1, ..., x_n]\n",
    "    y: Arreglo con m puntos con la forma [y_0, y_1, ..., y_m]\n",
    "    f: Matriz de n x m valores que contiene la evaluación F(x_i,y_j) = f_{i,j}\n",
    "       para todo valor de i entre 0 y n, y j entre 0 y m, la matriz tiene la forma\n",
    "       [[f_{0,0}, f_{1,0}, ..., f_{n,0}],\n",
    "        [f_{0,1}, f_{1,1}, ..., f_{n,1}],\n",
    "        ...., \n",
    "        [f_{0,m}, f_{1,m}, ..., f_{n,m}]]\n",
    "Outputs:\n",
    "    Poly: Polinomio interpolador obtenido con el algoritmo correspondiente\n",
    "\"\"\"\n",
    "def obtainPolinomial(x,y,f):\n",
    "    Poly = Lagrange2D(x, y, f)\n",
    "    return Poly\n",
    "\n",
    "def obtainPolinomialWithChevyshev(x,y,f):\n",
    "    # Your Code\n",
    "    return Poly\n",
    "\"\"\"\n",
    "Función: EvaluatePolinomials\n",
    "Inputs:\n",
    "    Poly: Polinomio obtenido de obtainPolinomial pasado como parámetro\n",
    "    PolyChevy: Polinomio obtenido de obtainPolinomialWithChevyshev pasado como parámetro\n",
    "    Px: Punto x para evaluar\n",
    "    Py: Punto y para evaluar\n",
    "    RealValue: Valor real de aplicar F(x,y)\n",
    "Output:\n",
    "    error: Representa el error absoluto de evaluar poly en Px,Py respecto al valor real  \n",
    "    errorChevy: Representa el error absoluto de evaluar polyChevy en Px,Py respecto al valor real  \n",
    "\"\"\"\n",
    "def EvaluatePolinomials(Poly, PolyChevy, Px, Py, RealValue):\n",
    "    # Your Code\n",
    "    return (error, errorChevy)\n",
    "\"\"\"\n",
    "Función: Compare\n",
    "Inputs:\n",
    "    x: Arreglo con n puntos con la forma [x_0, x_1, ..., x_n]\n",
    "    y: Arreglo con m puntos con la forma [y_0, y_1, ..., y_m]\n",
    "    f: Matriz de n x m valores que contiene la evaluación F(x_i,y_j) = f_{i,j}\n",
    "       para todo valor de i entre 0 y n, y j entre 0 y m, la matriz tiene la forma\n",
    "       [[f_{0,0}, f_{1,0}, ..., f_{n,0}],\n",
    "        [f_{0,1}, f_{1,1}, ..., f_{n,1}],\n",
    "        ...., \n",
    "        [f_{0,m}, f_{1,m}, ..., f_{n,m}]]\n",
    "    Px: Punto x para evaluar\n",
    "    Py: Punto y para evaluar\n",
    "    RealValue: Valor real de aplicar F(x,y)\n",
    "Output:\n",
    "    Answer: Booleano que retorna True si al aplicar puntos de Chevyshev \n",
    "            obtiene una respuesta de mayor calidad (menor error) o False \n",
    "            si ocurre lo contrario.\n",
    "\"\"\"\n",
    "def Compare(x,y,f, Px, Py, RealValue):\n",
    "    # Your Code\n",
    "    return Answer"
   ]
  },
  {
   "cell_type": "markdown",
   "metadata": {
    "cell_id": "004bcb91b13f4ecca50213bfe109aaf5",
    "deepnote_cell_height": 52.390625,
    "deepnote_cell_type": "markdown",
    "tags": []
   },
   "source": [
    "Éxito a tod@s!"
   ]
  },
  {
   "cell_type": "markdown",
   "metadata": {
    "cell_id": "562de29cd78d4e20b778c61267047039",
    "deepnote_cell_height": 46,
    "deepnote_cell_type": "markdown",
    "tags": []
   },
   "source": []
  },
  {
   "cell_type": "markdown",
   "metadata": {
    "created_in_deepnote_cell": true,
    "deepnote_cell_type": "markdown",
    "tags": []
   },
   "source": [
    "<a style='text-decoration:none;line-height:16px;display:flex;color:#5B5B62;padding:10px;justify-content:end;' href='https://deepnote.com?utm_source=created-in-deepnote-cell&projectId=12f19ef0-c450-4207-b081-96955ea6f1f6' target=\"_blank\">\n",
    "<img alt='Created in deepnote.com' style='display:inline;max-height:16px;margin:0px;margin-right:7.5px;' src='data:image/svg+xml;base64,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' > </img>\n",
    "Created in <span style='font-weight:600;margin-left:4px;'>Deepnote</span></a>"
   ]
  }
 ],
 "metadata": {
  "colab": {
   "name": "Untitled1.ipynb",
   "provenance": []
  },
  "deepnote": {},
  "deepnote_execution_queue": [],
  "deepnote_notebook_id": "f5f09731-636a-472b-9f99-b2ede691a93b",
  "kernelspec": {
   "display_name": "Python 3 (ipykernel)",
   "language": "python",
   "name": "python3"
  },
  "language_info": {
   "codemirror_mode": {
    "name": "ipython",
    "version": 3
   },
   "file_extension": ".py",
   "mimetype": "text/x-python",
   "name": "python",
   "nbconvert_exporter": "python",
   "pygments_lexer": "ipython3",
   "version": "3.7.11"
  }
 },
 "nbformat": 4,
 "nbformat_minor": 1
}
